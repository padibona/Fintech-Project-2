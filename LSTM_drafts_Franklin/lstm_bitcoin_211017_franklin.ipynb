{
 "cells": [
  {
   "cell_type": "code",
   "execution_count": 1,
   "id": "0c98a952",
   "metadata": {},
   "outputs": [
    {
     "data": {
      "text/html": [
       "        <script type=\"text/javascript\">\n",
       "        window.PlotlyConfig = {MathJaxConfig: 'local'};\n",
       "        if (window.MathJax) {MathJax.Hub.Config({SVG: {font: \"STIX-Web\"}});}\n",
       "        if (typeof require !== 'undefined') {\n",
       "        require.undef(\"plotly\");\n",
       "        requirejs.config({\n",
       "            paths: {\n",
       "                'plotly': ['https://cdn.plot.ly/plotly-2.4.2.min']\n",
       "            }\n",
       "        });\n",
       "        require(['plotly'], function(Plotly) {\n",
       "            window._Plotly = Plotly;\n",
       "        });\n",
       "        }\n",
       "        </script>\n",
       "        "
      ]
     },
     "metadata": {},
     "output_type": "display_data"
    },
    {
     "data": {
      "text/html": [
       "        <script type=\"text/javascript\">\n",
       "        window.PlotlyConfig = {MathJaxConfig: 'local'};\n",
       "        if (window.MathJax) {MathJax.Hub.Config({SVG: {font: \"STIX-Web\"}});}\n",
       "        if (typeof require !== 'undefined') {\n",
       "        require.undef(\"plotly\");\n",
       "        requirejs.config({\n",
       "            paths: {\n",
       "                'plotly': ['https://cdn.plot.ly/plotly-2.4.2.min']\n",
       "            }\n",
       "        });\n",
       "        require(['plotly'], function(Plotly) {\n",
       "            window._Plotly = Plotly;\n",
       "        });\n",
       "        }\n",
       "        </script>\n",
       "        "
      ]
     },
     "metadata": {},
     "output_type": "display_data"
    },
    {
     "data": {
      "text/html": [
       "        <script type=\"text/javascript\">\n",
       "        window.PlotlyConfig = {MathJaxConfig: 'local'};\n",
       "        if (window.MathJax) {MathJax.Hub.Config({SVG: {font: \"STIX-Web\"}});}\n",
       "        if (typeof require !== 'undefined') {\n",
       "        require.undef(\"plotly\");\n",
       "        requirejs.config({\n",
       "            paths: {\n",
       "                'plotly': ['https://cdn.plot.ly/plotly-2.4.2.min']\n",
       "            }\n",
       "        });\n",
       "        require(['plotly'], function(Plotly) {\n",
       "            window._Plotly = Plotly;\n",
       "        });\n",
       "        }\n",
       "        </script>\n",
       "        "
      ]
     },
     "metadata": {},
     "output_type": "display_data"
    }
   ],
   "source": [
    "import matplotlib.dates as mdates\n",
    "import datetime\n",
    "from tqdm import tqdm\n",
    "from path import Path\n",
    "from datetime import datetime\n",
    "import matplotlib.pyplot as plt\n",
    "import seaborn as sns\n",
    "import cufflinks as cf\n",
    "#import plotly.graph_objs as go\n",
    "import plotly.graph_objects as go\n",
    "cf.go_offline()\n",
    "cf.set_config_file(offline = True)\n",
    "import pandas as pd\n",
    "import numpy as np\n",
    "import os\n",
    "import matplotlib\n",
    "import matplotlib.pyplot as plt\n",
    "from matplotlib.pyplot import figure \n",
    "import matplotlib.dates as mdates\n",
    "import seaborn as sns\n",
    "%matplotlib inline\n",
    "from sklearn.preprocessing import MinMaxScaler \n",
    "from sklearn.model_selection import TimeSeriesSplit \n",
    "from sklearn.tree import DecisionTreeRegressor \n",
    "from sklearn.metrics import mean_squared_error, r2_score \n",
    "from sklearn.linear_model import LassoCV\n",
    "from sklearn.linear_model import RidgeCV\n",
    "from sklearn.linear_model import SGDRegressor\n",
    "from sklearn.svm import SVR \n",
    "from sklearn.ensemble import RandomForestRegressor \n",
    "from sklearn.model_selection import GridSearchCV\n",
    "\n",
    "\n",
    "import warnings\n",
    "warnings.filterwarnings('ignore')"
   ]
  },
  {
   "cell_type": "code",
   "execution_count": 2,
   "id": "dd52c7ed",
   "metadata": {},
   "outputs": [],
   "source": [
    "# Read the trading_signals.csv file into a Pandas DataFrame\n",
    "# Set the date column as the DateTimeIndex\n",
    "data_path = Path(\"bitcoin_2010-8-16_2021-10-6.csv\")\n",
    "df = pd.read_csv(\n",
    "    data_path,\n",
    "    index_col=\"Date\",\n",
    "    infer_datetime_format=True,\n",
    "    parse_dates=True\n",
    ")"
   ]
  },
  {
   "cell_type": "code",
   "execution_count": 3,
   "id": "9029f1d3-004d-4268-bec1-3254d93a6b3f",
   "metadata": {},
   "outputs": [],
   "source": [
    "# Sorting the dataframe\n",
    "df.sort_values(by=['Date'], inplace=True, ascending=True)"
   ]
  },
  {
   "cell_type": "code",
   "execution_count": 4,
   "id": "c30ecebf-99a7-4e85-8ba6-96ef798a34d3",
   "metadata": {},
   "outputs": [
    {
     "data": {
      "text/html": [
       "<div>\n",
       "<style scoped>\n",
       "    .dataframe tbody tr th:only-of-type {\n",
       "        vertical-align: middle;\n",
       "    }\n",
       "\n",
       "    .dataframe tbody tr th {\n",
       "        vertical-align: top;\n",
       "    }\n",
       "\n",
       "    .dataframe thead th {\n",
       "        text-align: right;\n",
       "    }\n",
       "</style>\n",
       "<table border=\"1\" class=\"dataframe\">\n",
       "  <thead>\n",
       "    <tr style=\"text-align: right;\">\n",
       "      <th></th>\n",
       "      <th>Open</th>\n",
       "      <th>High</th>\n",
       "      <th>Low</th>\n",
       "      <th>Close</th>\n",
       "      <th>Volume</th>\n",
       "      <th>Market Cap</th>\n",
       "    </tr>\n",
       "    <tr>\n",
       "      <th>Date</th>\n",
       "      <th></th>\n",
       "      <th></th>\n",
       "      <th></th>\n",
       "      <th></th>\n",
       "      <th></th>\n",
       "      <th></th>\n",
       "    </tr>\n",
       "  </thead>\n",
       "  <tbody>\n",
       "    <tr>\n",
       "      <th>2021-09-27</th>\n",
       "      <td>43204.96</td>\n",
       "      <td>44237.91</td>\n",
       "      <td>42262.02</td>\n",
       "      <td>42278.31</td>\n",
       "      <td>51031440798</td>\n",
       "      <td>819023980137</td>\n",
       "    </tr>\n",
       "    <tr>\n",
       "      <th>2021-09-28</th>\n",
       "      <td>42111.84</td>\n",
       "      <td>42732.02</td>\n",
       "      <td>40909.31</td>\n",
       "      <td>40909.31</td>\n",
       "      <td>51750097181</td>\n",
       "      <td>789471244170</td>\n",
       "    </tr>\n",
       "    <tr>\n",
       "      <th>2021-09-29</th>\n",
       "      <td>41004.60</td>\n",
       "      <td>42564.99</td>\n",
       "      <td>40902.25</td>\n",
       "      <td>41543.64</td>\n",
       "      <td>50405842858</td>\n",
       "      <td>787462238462</td>\n",
       "    </tr>\n",
       "    <tr>\n",
       "      <th>2021-09-30</th>\n",
       "      <td>41536.59</td>\n",
       "      <td>44032.29</td>\n",
       "      <td>41466.71</td>\n",
       "      <td>43797.59</td>\n",
       "      <td>54175087118</td>\n",
       "      <td>814537665340</td>\n",
       "    </tr>\n",
       "    <tr>\n",
       "      <th>2021-10-01</th>\n",
       "      <td>43767.70</td>\n",
       "      <td>48388.04</td>\n",
       "      <td>43346.02</td>\n",
       "      <td>48080.37</td>\n",
       "      <td>63060539364</td>\n",
       "      <td>866976038909</td>\n",
       "    </tr>\n",
       "    <tr>\n",
       "      <th>2021-10-02</th>\n",
       "      <td>48147.57</td>\n",
       "      <td>48247.94</td>\n",
       "      <td>47467.84</td>\n",
       "      <td>47710.52</td>\n",
       "      <td>60614023324</td>\n",
       "      <td>900563548593</td>\n",
       "    </tr>\n",
       "    <tr>\n",
       "      <th>2021-10-03</th>\n",
       "      <td>47674.37</td>\n",
       "      <td>49163.40</td>\n",
       "      <td>47217.72</td>\n",
       "      <td>48144.15</td>\n",
       "      <td>47566767232</td>\n",
       "      <td>903971729927</td>\n",
       "    </tr>\n",
       "    <tr>\n",
       "      <th>2021-10-04</th>\n",
       "      <td>48186.65</td>\n",
       "      <td>49425.78</td>\n",
       "      <td>47004.99</td>\n",
       "      <td>49176.76</td>\n",
       "      <td>60738746937</td>\n",
       "      <td>906668798743</td>\n",
       "    </tr>\n",
       "    <tr>\n",
       "      <th>2021-10-05</th>\n",
       "      <td>49273.71</td>\n",
       "      <td>51785.32</td>\n",
       "      <td>49066.92</td>\n",
       "      <td>51545.05</td>\n",
       "      <td>68596958151</td>\n",
       "      <td>942701045366</td>\n",
       "    </tr>\n",
       "    <tr>\n",
       "      <th>2021-10-06</th>\n",
       "      <td>51500.06</td>\n",
       "      <td>55556.80</td>\n",
       "      <td>50416.73</td>\n",
       "      <td>55385.45</td>\n",
       "      <td>77199761550</td>\n",
       "      <td>996348281001</td>\n",
       "    </tr>\n",
       "  </tbody>\n",
       "</table>\n",
       "</div>"
      ],
      "text/plain": [
       "                Open      High       Low     Close       Volume    Market Cap\n",
       "Date                                                                         \n",
       "2021-09-27  43204.96  44237.91  42262.02  42278.31  51031440798  819023980137\n",
       "2021-09-28  42111.84  42732.02  40909.31  40909.31  51750097181  789471244170\n",
       "2021-09-29  41004.60  42564.99  40902.25  41543.64  50405842858  787462238462\n",
       "2021-09-30  41536.59  44032.29  41466.71  43797.59  54175087118  814537665340\n",
       "2021-10-01  43767.70  48388.04  43346.02  48080.37  63060539364  866976038909\n",
       "2021-10-02  48147.57  48247.94  47467.84  47710.52  60614023324  900563548593\n",
       "2021-10-03  47674.37  49163.40  47217.72  48144.15  47566767232  903971729927\n",
       "2021-10-04  48186.65  49425.78  47004.99  49176.76  60738746937  906668798743\n",
       "2021-10-05  49273.71  51785.32  49066.92  51545.05  68596958151  942701045366\n",
       "2021-10-06  51500.06  55556.80  50416.73  55385.45  77199761550  996348281001"
      ]
     },
     "execution_count": 4,
     "metadata": {},
     "output_type": "execute_result"
    }
   ],
   "source": [
    "# Review the DataFrame\n",
    "df.tail(10)"
   ]
  },
  {
   "cell_type": "code",
   "execution_count": 5,
   "id": "b8e4c27d",
   "metadata": {},
   "outputs": [
    {
     "data": {
      "text/html": [
       "<div>\n",
       "<style scoped>\n",
       "    .dataframe tbody tr th:only-of-type {\n",
       "        vertical-align: middle;\n",
       "    }\n",
       "\n",
       "    .dataframe tbody tr th {\n",
       "        vertical-align: top;\n",
       "    }\n",
       "\n",
       "    .dataframe thead th {\n",
       "        text-align: right;\n",
       "    }\n",
       "</style>\n",
       "<table border=\"1\" class=\"dataframe\">\n",
       "  <thead>\n",
       "    <tr style=\"text-align: right;\">\n",
       "      <th></th>\n",
       "      <th>Open</th>\n",
       "      <th>High</th>\n",
       "      <th>Low</th>\n",
       "      <th>Close</th>\n",
       "      <th>Volume</th>\n",
       "      <th>Market Cap</th>\n",
       "    </tr>\n",
       "    <tr>\n",
       "      <th>Date</th>\n",
       "      <th></th>\n",
       "      <th></th>\n",
       "      <th></th>\n",
       "      <th></th>\n",
       "      <th></th>\n",
       "      <th></th>\n",
       "    </tr>\n",
       "  </thead>\n",
       "  <tbody>\n",
       "    <tr>\n",
       "      <th>2010-08-16</th>\n",
       "      <td>0.07</td>\n",
       "      <td>0.07</td>\n",
       "      <td>0.07</td>\n",
       "      <td>0.07</td>\n",
       "      <td>0</td>\n",
       "      <td>0</td>\n",
       "    </tr>\n",
       "    <tr>\n",
       "      <th>2010-08-17</th>\n",
       "      <td>0.07</td>\n",
       "      <td>0.07</td>\n",
       "      <td>0.07</td>\n",
       "      <td>0.07</td>\n",
       "      <td>0</td>\n",
       "      <td>0</td>\n",
       "    </tr>\n",
       "    <tr>\n",
       "      <th>2010-08-18</th>\n",
       "      <td>0.07</td>\n",
       "      <td>0.07</td>\n",
       "      <td>0.07</td>\n",
       "      <td>0.07</td>\n",
       "      <td>0</td>\n",
       "      <td>0</td>\n",
       "    </tr>\n",
       "    <tr>\n",
       "      <th>2010-08-19</th>\n",
       "      <td>0.07</td>\n",
       "      <td>0.07</td>\n",
       "      <td>0.07</td>\n",
       "      <td>0.07</td>\n",
       "      <td>0</td>\n",
       "      <td>0</td>\n",
       "    </tr>\n",
       "    <tr>\n",
       "      <th>2010-08-20</th>\n",
       "      <td>0.07</td>\n",
       "      <td>0.07</td>\n",
       "      <td>0.07</td>\n",
       "      <td>0.07</td>\n",
       "      <td>0</td>\n",
       "      <td>0</td>\n",
       "    </tr>\n",
       "  </tbody>\n",
       "</table>\n",
       "</div>"
      ],
      "text/plain": [
       "            Open  High   Low  Close  Volume  Market Cap\n",
       "Date                                                   \n",
       "2010-08-16  0.07  0.07  0.07   0.07       0           0\n",
       "2010-08-17  0.07  0.07  0.07   0.07       0           0\n",
       "2010-08-18  0.07  0.07  0.07   0.07       0           0\n",
       "2010-08-19  0.07  0.07  0.07   0.07       0           0\n",
       "2010-08-20  0.07  0.07  0.07   0.07       0           0"
      ]
     },
     "execution_count": 5,
     "metadata": {},
     "output_type": "execute_result"
    }
   ],
   "source": [
    "\n",
    "\n",
    "df.head()\n",
    "\n"
   ]
  },
  {
   "cell_type": "code",
   "execution_count": 6,
   "id": "cab3b342",
   "metadata": {},
   "outputs": [],
   "source": [
    "##EXPLORATORY DATA ANALYSIS"
   ]
  },
  {
   "cell_type": "code",
   "execution_count": 7,
   "id": "7aaee5a7",
   "metadata": {},
   "outputs": [
    {
     "data": {
      "text/plain": [
       "False"
      ]
     },
     "execution_count": 7,
     "metadata": {},
     "output_type": "execute_result"
    }
   ],
   "source": [
    "# Check if there is any missing values\n",
    "#df.isnull().sum()\n",
    "df.isnull().values.any()"
   ]
  },
  {
   "cell_type": "code",
   "execution_count": 8,
   "id": "72ee6ca3",
   "metadata": {},
   "outputs": [
    {
     "data": {
      "text/html": [
       "<div>\n",
       "<style scoped>\n",
       "    .dataframe tbody tr th:only-of-type {\n",
       "        vertical-align: middle;\n",
       "    }\n",
       "\n",
       "    .dataframe tbody tr th {\n",
       "        vertical-align: top;\n",
       "    }\n",
       "\n",
       "    .dataframe thead th {\n",
       "        text-align: right;\n",
       "    }\n",
       "</style>\n",
       "<table border=\"1\" class=\"dataframe\">\n",
       "  <thead>\n",
       "    <tr style=\"text-align: right;\">\n",
       "      <th></th>\n",
       "      <th>Open</th>\n",
       "      <th>High</th>\n",
       "      <th>Low</th>\n",
       "      <th>Close</th>\n",
       "      <th>Volume</th>\n",
       "      <th>Market Cap</th>\n",
       "    </tr>\n",
       "  </thead>\n",
       "  <tbody>\n",
       "    <tr>\n",
       "      <th>count</th>\n",
       "      <td>3979.000000</td>\n",
       "      <td>3979.000000</td>\n",
       "      <td>3979.000000</td>\n",
       "      <td>3979.000000</td>\n",
       "      <td>3.979000e+03</td>\n",
       "      <td>3.979000e+03</td>\n",
       "    </tr>\n",
       "    <tr>\n",
       "      <th>mean</th>\n",
       "      <td>6021.571407</td>\n",
       "      <td>6194.930148</td>\n",
       "      <td>5836.781990</td>\n",
       "      <td>6035.582566</td>\n",
       "      <td>1.148943e+10</td>\n",
       "      <td>1.092203e+11</td>\n",
       "    </tr>\n",
       "    <tr>\n",
       "      <th>std</th>\n",
       "      <td>11664.263409</td>\n",
       "      <td>12016.305829</td>\n",
       "      <td>11281.014648</td>\n",
       "      <td>11690.986417</td>\n",
       "      <td>2.602466e+10</td>\n",
       "      <td>2.181235e+11</td>\n",
       "    </tr>\n",
       "    <tr>\n",
       "      <th>min</th>\n",
       "      <td>0.060000</td>\n",
       "      <td>0.060000</td>\n",
       "      <td>0.060000</td>\n",
       "      <td>0.060000</td>\n",
       "      <td>0.000000e+00</td>\n",
       "      <td>0.000000e+00</td>\n",
       "    </tr>\n",
       "    <tr>\n",
       "      <th>25%</th>\n",
       "      <td>125.375000</td>\n",
       "      <td>127.370000</td>\n",
       "      <td>122.105000</td>\n",
       "      <td>125.405000</td>\n",
       "      <td>0.000000e+00</td>\n",
       "      <td>1.384740e+09</td>\n",
       "    </tr>\n",
       "    <tr>\n",
       "      <th>50%</th>\n",
       "      <td>625.970000</td>\n",
       "      <td>638.650000</td>\n",
       "      <td>616.610000</td>\n",
       "      <td>626.430000</td>\n",
       "      <td>6.529633e+07</td>\n",
       "      <td>9.128638e+09</td>\n",
       "    </tr>\n",
       "    <tr>\n",
       "      <th>75%</th>\n",
       "      <td>7439.370000</td>\n",
       "      <td>7589.780000</td>\n",
       "      <td>7294.540000</td>\n",
       "      <td>7449.175000</td>\n",
       "      <td>7.199873e+09</td>\n",
       "      <td>1.308160e+11</td>\n",
       "    </tr>\n",
       "    <tr>\n",
       "      <th>max</th>\n",
       "      <td>63545.120000</td>\n",
       "      <td>64816.100000</td>\n",
       "      <td>62090.500000</td>\n",
       "      <td>63528.480000</td>\n",
       "      <td>2.121515e+11</td>\n",
       "      <td>1.184937e+12</td>\n",
       "    </tr>\n",
       "  </tbody>\n",
       "</table>\n",
       "</div>"
      ],
      "text/plain": [
       "               Open          High           Low         Close        Volume  \\\n",
       "count   3979.000000   3979.000000   3979.000000   3979.000000  3.979000e+03   \n",
       "mean    6021.571407   6194.930148   5836.781990   6035.582566  1.148943e+10   \n",
       "std    11664.263409  12016.305829  11281.014648  11690.986417  2.602466e+10   \n",
       "min        0.060000      0.060000      0.060000      0.060000  0.000000e+00   \n",
       "25%      125.375000    127.370000    122.105000    125.405000  0.000000e+00   \n",
       "50%      625.970000    638.650000    616.610000    626.430000  6.529633e+07   \n",
       "75%     7439.370000   7589.780000   7294.540000   7449.175000  7.199873e+09   \n",
       "max    63545.120000  64816.100000  62090.500000  63528.480000  2.121515e+11   \n",
       "\n",
       "         Market Cap  \n",
       "count  3.979000e+03  \n",
       "mean   1.092203e+11  \n",
       "std    2.181235e+11  \n",
       "min    0.000000e+00  \n",
       "25%    1.384740e+09  \n",
       "50%    9.128638e+09  \n",
       "75%    1.308160e+11  \n",
       "max    1.184937e+12  "
      ]
     },
     "execution_count": 8,
     "metadata": {},
     "output_type": "execute_result"
    }
   ],
   "source": [
    "\n",
    "\n",
    "df.describe()\n",
    "\n"
   ]
  },
  {
   "cell_type": "code",
   "execution_count": 9,
   "id": "3d6291e6",
   "metadata": {},
   "outputs": [],
   "source": [
    "df_close = df['Close']\n",
    "#df_close = df_close.to_frame()\n",
    "#df_close.columns = [signals_df(1)]"
   ]
  },
  {
   "cell_type": "code",
   "execution_count": 10,
   "id": "d466f904",
   "metadata": {},
   "outputs": [
    {
     "data": {
      "text/plain": [
       "Date\n",
       "2010-08-16    0.07\n",
       "2010-08-17    0.07\n",
       "2010-08-18    0.07\n",
       "2010-08-19    0.07\n",
       "2010-08-20    0.07\n",
       "Name: Close, dtype: float64"
      ]
     },
     "execution_count": 10,
     "metadata": {},
     "output_type": "execute_result"
    }
   ],
   "source": [
    "df_close.head()"
   ]
  },
  {
   "cell_type": "code",
   "execution_count": 11,
   "id": "d279c8d9",
   "metadata": {},
   "outputs": [],
   "source": [
    "# df_close.iplot(title = 'Price Change between 2010 and 2021')"
   ]
  },
  {
   "cell_type": "code",
   "execution_count": 12,
   "id": "e093fc80",
   "metadata": {},
   "outputs": [],
   "source": [
    "#Calculate daily return change\n",
    "ret = df_close.pct_change()\n",
    "# ret.iplot(colors = 'Blue',title = 'Daily Return Between 2010 and 2021')"
   ]
  },
  {
   "cell_type": "code",
   "execution_count": 13,
   "id": "cb11a256",
   "metadata": {},
   "outputs": [],
   "source": [
    "stocks_monthly_price = df_close.resample('M',kind='period').last()\n",
    "ret_month = stocks_monthly_price.pct_change().dropna()\n",
    "month_cum_ret = (1+ret_month).cumprod()\n",
    "# month_cum_ret.iplot(color = 'Red')"
   ]
  },
  {
   "cell_type": "code",
   "execution_count": 14,
   "id": "cb69904d",
   "metadata": {},
   "outputs": [],
   "source": [
    "# First thing we need to do is to normalize the data with sklearn's MinMaxScaler function. We created a function for it.\n",
    "# The data will be scaled between 0 - 1\n",
    "\n",
    "def normalize_featuresDF(df):\n",
    "    \"\"\"\n",
    "    We created to normalize df data - range between 0-1\n",
    "    args:\n",
    "        df : the data we pulled up from yahoo for the stock\n",
    "    return:\n",
    "        normalized_features_df : data after it is normalized\n",
    "    \n",
    "    \"\"\"\n",
    "    scaler = MinMaxScaler()\n",
    "    feature_columns = df.columns\n",
    "    feature_minmax_data = scaler.fit_transform(df)\n",
    "    normalized_features_df = pd.DataFrame(columns=feature_columns, data=feature_minmax_data, index=df.index)\n",
    "    \n",
    "    \n",
    "    return normalized_features_df"
   ]
  },
  {
   "cell_type": "code",
   "execution_count": 15,
   "id": "551035fc",
   "metadata": {},
   "outputs": [],
   "source": [
    "##2- Split the data into Train, Test and Validation sets"
   ]
  },
  {
   "cell_type": "code",
   "execution_count": 16,
   "id": "18afbcff",
   "metadata": {},
   "outputs": [],
   "source": [
    "def split_ValidationSet(features_df, target_df, length=90):\n",
    "    \"\"\"\n",
    "    method is to separate validation set from the complete df\n",
    "    args:\n",
    "        features_df: full features_df\n",
    "        target_df :  full target_df\n",
    "        length: prediction length\n",
    "    returns : \n",
    "        validation_x : returns features validations sets\n",
    "        validation_y : returns target validations sets\n",
    "    \"\"\"\n",
    "    #need to shift target array because we are prediction n + 1 days price\n",
    "    target_df = target_df.shift(-1)\n",
    "    #split validation set . i am spliting 10% latest data for validation.\n",
    "    #target\n",
    "    validation_y = target_df[-length:-1]\n",
    "    validation_x = features_df[-length:-1]\n",
    "    \n",
    "    return validation_x, validation_y\n",
    "\n",
    "#Now get final_features_df and final_target_df by excluding validation set\n",
    "def split_Final_df(normalized_features_df, target_df, v_length=90):\n",
    "    \"\"\"\n",
    "    This method will be having remaining data after the validation set.\n",
    "    args:\n",
    "        features_df: normalized features_df\n",
    "        target_df: complete target_df\n",
    "        v_length: validation set length\n",
    "    return: \n",
    "        final_features_df : set of feature df excluding validation set\n",
    "        final_target_df : set of target df excluding validation set\n",
    "    \"\"\"\n",
    "    final_features_df = normalized_features_df[:-v_length]\n",
    "    final_target_df = target_df[:-v_length]\n",
    "    \n",
    "    return final_features_df, final_target_df"
   ]
  },
  {
   "cell_type": "code",
   "execution_count": 17,
   "id": "2e5be964",
   "metadata": {},
   "outputs": [],
   "source": [
    "##3 - Train and Test split - Timeseries split"
   ]
  },
  {
   "cell_type": "code",
   "execution_count": 18,
   "id": "7535da61",
   "metadata": {},
   "outputs": [],
   "source": [
    "#Split final set into training and testing sets\n",
    "#splitting training and testing set using sklearn's TimeSeries split\n",
    "def split_Train_Test_DF(final_features_df, final_target_df, n_splits=10):\n",
    "    \"\"\"\n",
    "    Using sklearn's timeseries split to split the training and testing sets\n",
    "    args:\n",
    "        final_features_df: features_df after splitting validation set\n",
    "        final_target_df: target_df after splitting validation set\n",
    "    \n",
    "    return: \n",
    "        x_train : traing feature set\n",
    "        y_train : training target set\n",
    "        x_test : testing feature set\n",
    "        y_test : testing target set\n",
    "    \"\"\"\n",
    "    ts_split = TimeSeriesSplit(n_splits)\n",
    "    for train_index, test_index in ts_split.split(final_features_df):\n",
    "        x_train, x_test = final_features_df[:len(train_index)], final_features_df[len(train_index): (len(train_index)+len(test_index))]\n",
    "        y_train, y_test = final_target_df[:len(train_index)].values.ravel(), final_target_df[len(train_index): (len(train_index)+len(test_index))].values.ravel()\n",
    "        \n",
    "    return x_train, y_train, x_test, y_test"
   ]
  },
  {
   "cell_type": "code",
   "execution_count": 19,
   "id": "ca806e74",
   "metadata": {},
   "outputs": [],
   "source": [
    "##4- Visualizing the datasets"
   ]
  },
  {
   "cell_type": "code",
   "execution_count": 20,
   "id": "f02366b1",
   "metadata": {},
   "outputs": [],
   "source": [
    "def DataSet_Graph():\n",
    "    \"\"\"\n",
    "    \n",
    "    Chart shows 2 different sets(Train,Test,Validation) into single plot\n",
    "    Since it is time series data, it shouldnot be mixed \n",
    "    \"\"\"\n",
    "    t=y_test.astype(np.float)\n",
    "    v = target_df[-90:-1].values.ravel()\n",
    "    plt.figure(figsize = (20,10))\n",
    "    plt.plot(y_train, label='trainning_set')\n",
    "    plt.plot([None]*len(y_train) + [x for x in t], label='test_set')\n",
    "    plt.plot([None]*(len(y_train)+len(t)) + [x for x in v], label='validation_set')\n",
    "    plt.xlabel('Days',fontsize = 18)\n",
    "    plt.ylabel('Price',fontsize = 18)\n",
    "    plt.title('Split dataset into training/validation/test set',fontsize = 20)\n",
    "    plt.legend()\n",
    "\n"
   ]
  },
  {
   "cell_type": "code",
   "execution_count": 21,
   "id": "f8a82651",
   "metadata": {},
   "outputs": [],
   "source": [
    "##5 - Implementing model prediction and evaluation\n",
    "##Method for validating result with evaluation metrics"
   ]
  },
  {
   "cell_type": "code",
   "execution_count": 22,
   "id": "6867e1de",
   "metadata": {},
   "outputs": [],
   "source": [
    "#Method to evaluate the benchmark model and solution model with validate data set\n",
    "def model_validateResult(model, model_name):\n",
    "    \"\"\"\n",
    "    Returns RMSE_Score and R2_Score\n",
    "    Also plots actual vs predicted trend\n",
    "    args:\n",
    "        model : the model is to validate\n",
    "        model_name: name of the model\n",
    "    return:\n",
    "        RMSE_Score : calculates rmse score\n",
    "        R2_Score : calculates R2 score\n",
    "    \"\"\"\n",
    "\n",
    "    model = model(x_train, y_train, validation_x)\n",
    "    prediction = model.predict(validation_x)\n",
    "    RMSE_Score = np.sqrt(mean_squared_error(validation_y, prediction))\n",
    "    R2_Score = r2_score(validation_y, prediction)\n",
    "    \n",
    "    #trendline for actual vs prediction\n",
    "\n",
    "    plt.figure(figsize = (23,10))\n",
    "    plt.plot(validation_y.index, prediction, color='green', linestyle='dashed', linewidth = 3,\n",
    "         marker='o', markerfacecolor='green', markersize=8,label = 'Prediction data')\n",
    "    plt.plot(validation_y.index, validation_y, color='red', linestyle='dashed', linewidth = 3,\n",
    "         marker='o', markerfacecolor='red', markersize=8,label = 'Actual data')\n",
    "    plt.plot(figsize = (23,10))\n",
    "    plt.ylabel('Price',fontsize = 20)\n",
    "    plt.xlabel('Date',fontsize = 20)\n",
    "    plt.xticks(fontsize=15)\n",
    "    plt.yticks(fontsize=15)\n",
    "    plt.gca().xaxis.set_major_formatter(mdates.DateFormatter('%Y-%m-%d'))\n",
    "    plt.gca().xaxis.set_major_locator(mdates.MonthLocator())\n",
    "    plt.title(model_name + ' Predict vs Actual',fontsize = 20)\n",
    "    plt.legend(loc='upper left')\n",
    "    plt.show()\n",
    "    print(model_name + ' RMSE: ', RMSE_Score)\n",
    "    print(model_name + ' R2 score: ', R2_Score)\n",
    "    return RMSE_Score, R2_Score\n",
    "\n",
    "\n",
    "\n",
    "\n",
    "#Method to evaluate the final model with testing data set\n",
    "def bestModel_validateResult(model, model_name):\n",
    "    \"\"\"\n",
    "    Returns RMSE_Score and R2_Score\n",
    "    Also plots actual vs predicted trend\n",
    "    args:\n",
    "        model : the model is to validate\n",
    "        model_name: name of the model\n",
    "    return:\n",
    "        RMSE_Score : calculates rmse score\n",
    "        R2_Score : calculates R2 score\n",
    "    \"\"\" \n",
    "    #I am giving testing set for the evaluation \n",
    "    model = model(x_train, y_train, x_test)\n",
    "    prediction = model.predict(x_test)\n",
    "    \n",
    "    RMSE_Score = np.sqrt(mean_squared_error(y_test, prediction))\n",
    "    R2_Score = r2_score(y_test, prediction)\n",
    "    plt.figure(figsize = (23,10))\n",
    "    plt.xticks(fontsize=15)\n",
    "    plt.yticks(fontsize=15)\n",
    "    plt.title(model_name + 'Prediction Vs Actual',fontsize = 20)\n",
    "    plt.plot(y_test, label='test data')\n",
    "    plt.plot(prediction, label='prediction')\n",
    "    plt.xlabel('Days',fontsize = 20)\n",
    "    plt.ylabel('Price',fontsize = 20)\n",
    "    plt.legend();\n",
    "    print(model_name + ' RMSE: ', RMSE_Score)\n",
    "    print(model_name + ' R2 score: ', R2_Score) \n",
    "    return RMSE_Score, R2_Score\n",
    "\n",
    "\n",
    "\n",
    "def value_Compare(model):\n",
    "    \"\"\"\n",
    "    this method is used to create final data frame using testing value with predicted value.\n",
    "    args:\n",
    "        model : trained model\n",
    "    return : \n",
    "        df : df with test value and predicted value\n",
    "    \"\"\"\n",
    "    model = model(x_train, y_train, x_test)\n",
    "    prediction = model.predict(x_test)\n",
    "    col1 = pd.DataFrame(y_test, columns=['True_value'])\n",
    "    col2 = pd.DataFrame(prediction, columns = ['Predicted_value'])\n",
    "    df = pd.concat([col1, col2], axis=1)\n",
    "    return df\n",
    "\n"
   ]
  },
  {
   "cell_type": "code",
   "execution_count": 23,
   "id": "d53bd634",
   "metadata": {},
   "outputs": [],
   "source": [
    "#normalizing features df\n",
    "normalized_features_df = normalize_featuresDF(df)\n",
    "target_df = df[['Close']]"
   ]
  },
  {
   "cell_type": "code",
   "execution_count": 24,
   "id": "0f5b4e83",
   "metadata": {},
   "outputs": [
    {
     "name": "stdout",
     "output_type": "stream",
     "text": [
      "feature_df has (rows, columns) : (3979, 6) \n",
      "target_df has (rows, columns) : (3979, 1) \n"
     ]
    }
   ],
   "source": [
    "#Get shape of the features and target data\n",
    "print(\"feature_df has (rows, columns) : {} \".format(normalized_features_df.shape))\n",
    "print(\"target_df has (rows, columns) : {} \".format(target_df.shape))"
   ]
  },
  {
   "cell_type": "code",
   "execution_count": 25,
   "id": "51a8bdcb",
   "metadata": {},
   "outputs": [
    {
     "data": {
      "text/html": [
       "<div>\n",
       "<style scoped>\n",
       "    .dataframe tbody tr th:only-of-type {\n",
       "        vertical-align: middle;\n",
       "    }\n",
       "\n",
       "    .dataframe tbody tr th {\n",
       "        vertical-align: top;\n",
       "    }\n",
       "\n",
       "    .dataframe thead th {\n",
       "        text-align: right;\n",
       "    }\n",
       "</style>\n",
       "<table border=\"1\" class=\"dataframe\">\n",
       "  <thead>\n",
       "    <tr style=\"text-align: right;\">\n",
       "      <th></th>\n",
       "      <th>Open</th>\n",
       "      <th>High</th>\n",
       "      <th>Low</th>\n",
       "      <th>Close</th>\n",
       "      <th>Volume</th>\n",
       "      <th>Market Cap</th>\n",
       "    </tr>\n",
       "    <tr>\n",
       "      <th>Date</th>\n",
       "      <th></th>\n",
       "      <th></th>\n",
       "      <th></th>\n",
       "      <th></th>\n",
       "      <th></th>\n",
       "      <th></th>\n",
       "    </tr>\n",
       "  </thead>\n",
       "  <tbody>\n",
       "    <tr>\n",
       "      <th>2010-08-16</th>\n",
       "      <td>1.573686e-07</td>\n",
       "      <td>1.542828e-07</td>\n",
       "      <td>1.610554e-07</td>\n",
       "      <td>1.574099e-07</td>\n",
       "      <td>0.000000</td>\n",
       "      <td>0.000000</td>\n",
       "    </tr>\n",
       "    <tr>\n",
       "      <th>2010-08-17</th>\n",
       "      <td>1.573686e-07</td>\n",
       "      <td>1.542828e-07</td>\n",
       "      <td>1.610554e-07</td>\n",
       "      <td>1.574099e-07</td>\n",
       "      <td>0.000000</td>\n",
       "      <td>0.000000</td>\n",
       "    </tr>\n",
       "    <tr>\n",
       "      <th>2010-08-18</th>\n",
       "      <td>1.573686e-07</td>\n",
       "      <td>1.542828e-07</td>\n",
       "      <td>1.610554e-07</td>\n",
       "      <td>1.574099e-07</td>\n",
       "      <td>0.000000</td>\n",
       "      <td>0.000000</td>\n",
       "    </tr>\n",
       "    <tr>\n",
       "      <th>2010-08-19</th>\n",
       "      <td>1.573686e-07</td>\n",
       "      <td>1.542828e-07</td>\n",
       "      <td>1.610554e-07</td>\n",
       "      <td>1.574099e-07</td>\n",
       "      <td>0.000000</td>\n",
       "      <td>0.000000</td>\n",
       "    </tr>\n",
       "    <tr>\n",
       "      <th>2010-08-20</th>\n",
       "      <td>1.573686e-07</td>\n",
       "      <td>1.542828e-07</td>\n",
       "      <td>1.610554e-07</td>\n",
       "      <td>1.574099e-07</td>\n",
       "      <td>0.000000</td>\n",
       "      <td>0.000000</td>\n",
       "    </tr>\n",
       "    <tr>\n",
       "      <th>...</th>\n",
       "      <td>...</td>\n",
       "      <td>...</td>\n",
       "      <td>...</td>\n",
       "      <td>...</td>\n",
       "      <td>...</td>\n",
       "      <td>...</td>\n",
       "    </tr>\n",
       "    <tr>\n",
       "      <th>2021-10-02</th>\n",
       "      <td>7.576908e-01</td>\n",
       "      <td>7.443818e-01</td>\n",
       "      <td>7.644942e-01</td>\n",
       "      <td>7.510097e-01</td>\n",
       "      <td>0.285711</td>\n",
       "      <td>0.760010</td>\n",
       "    </tr>\n",
       "    <tr>\n",
       "      <th>2021-10-03</th>\n",
       "      <td>7.502442e-01</td>\n",
       "      <td>7.585058e-01</td>\n",
       "      <td>7.604659e-01</td>\n",
       "      <td>7.578355e-01</td>\n",
       "      <td>0.224211</td>\n",
       "      <td>0.762886</td>\n",
       "    </tr>\n",
       "    <tr>\n",
       "      <th>2021-10-04</th>\n",
       "      <td>7.583058e-01</td>\n",
       "      <td>7.625538e-01</td>\n",
       "      <td>7.570397e-01</td>\n",
       "      <td>7.740898e-01</td>\n",
       "      <td>0.286299</td>\n",
       "      <td>0.765162</td>\n",
       "    </tr>\n",
       "    <tr>\n",
       "      <th>2021-10-05</th>\n",
       "      <td>7.754128e-01</td>\n",
       "      <td>7.989575e-01</td>\n",
       "      <td>7.902482e-01</td>\n",
       "      <td>8.113690e-01</td>\n",
       "      <td>0.323339</td>\n",
       "      <td>0.795571</td>\n",
       "    </tr>\n",
       "    <tr>\n",
       "      <th>2021-10-06</th>\n",
       "      <td>8.104485e-01</td>\n",
       "      <td>8.571449e-01</td>\n",
       "      <td>8.119876e-01</td>\n",
       "      <td>8.718207e-01</td>\n",
       "      <td>0.363890</td>\n",
       "      <td>0.840845</td>\n",
       "    </tr>\n",
       "  </tbody>\n",
       "</table>\n",
       "<p>3979 rows × 6 columns</p>\n",
       "</div>"
      ],
      "text/plain": [
       "                    Open          High           Low         Close    Volume  \\\n",
       "Date                                                                           \n",
       "2010-08-16  1.573686e-07  1.542828e-07  1.610554e-07  1.574099e-07  0.000000   \n",
       "2010-08-17  1.573686e-07  1.542828e-07  1.610554e-07  1.574099e-07  0.000000   \n",
       "2010-08-18  1.573686e-07  1.542828e-07  1.610554e-07  1.574099e-07  0.000000   \n",
       "2010-08-19  1.573686e-07  1.542828e-07  1.610554e-07  1.574099e-07  0.000000   \n",
       "2010-08-20  1.573686e-07  1.542828e-07  1.610554e-07  1.574099e-07  0.000000   \n",
       "...                  ...           ...           ...           ...       ...   \n",
       "2021-10-02  7.576908e-01  7.443818e-01  7.644942e-01  7.510097e-01  0.285711   \n",
       "2021-10-03  7.502442e-01  7.585058e-01  7.604659e-01  7.578355e-01  0.224211   \n",
       "2021-10-04  7.583058e-01  7.625538e-01  7.570397e-01  7.740898e-01  0.286299   \n",
       "2021-10-05  7.754128e-01  7.989575e-01  7.902482e-01  8.113690e-01  0.323339   \n",
       "2021-10-06  8.104485e-01  8.571449e-01  8.119876e-01  8.718207e-01  0.363890   \n",
       "\n",
       "            Market Cap  \n",
       "Date                    \n",
       "2010-08-16    0.000000  \n",
       "2010-08-17    0.000000  \n",
       "2010-08-18    0.000000  \n",
       "2010-08-19    0.000000  \n",
       "2010-08-20    0.000000  \n",
       "...                ...  \n",
       "2021-10-02    0.760010  \n",
       "2021-10-03    0.762886  \n",
       "2021-10-04    0.765162  \n",
       "2021-10-05    0.795571  \n",
       "2021-10-06    0.840845  \n",
       "\n",
       "[3979 rows x 6 columns]"
      ]
     },
     "execution_count": 25,
     "metadata": {},
     "output_type": "execute_result"
    }
   ],
   "source": [
    "normalized_features_df"
   ]
  },
  {
   "cell_type": "code",
   "execution_count": 26,
   "id": "2eb90fe2",
   "metadata": {},
   "outputs": [
    {
     "data": {
      "text/html": [
       "<div>\n",
       "<style scoped>\n",
       "    .dataframe tbody tr th:only-of-type {\n",
       "        vertical-align: middle;\n",
       "    }\n",
       "\n",
       "    .dataframe tbody tr th {\n",
       "        vertical-align: top;\n",
       "    }\n",
       "\n",
       "    .dataframe thead th {\n",
       "        text-align: right;\n",
       "    }\n",
       "</style>\n",
       "<table border=\"1\" class=\"dataframe\">\n",
       "  <thead>\n",
       "    <tr style=\"text-align: right;\">\n",
       "      <th></th>\n",
       "      <th>Close</th>\n",
       "    </tr>\n",
       "    <tr>\n",
       "      <th>Date</th>\n",
       "      <th></th>\n",
       "    </tr>\n",
       "  </thead>\n",
       "  <tbody>\n",
       "    <tr>\n",
       "      <th>2010-08-16</th>\n",
       "      <td>0.07</td>\n",
       "    </tr>\n",
       "    <tr>\n",
       "      <th>2010-08-17</th>\n",
       "      <td>0.07</td>\n",
       "    </tr>\n",
       "    <tr>\n",
       "      <th>2010-08-18</th>\n",
       "      <td>0.07</td>\n",
       "    </tr>\n",
       "    <tr>\n",
       "      <th>2010-08-19</th>\n",
       "      <td>0.07</td>\n",
       "    </tr>\n",
       "    <tr>\n",
       "      <th>2010-08-20</th>\n",
       "      <td>0.07</td>\n",
       "    </tr>\n",
       "    <tr>\n",
       "      <th>...</th>\n",
       "      <td>...</td>\n",
       "    </tr>\n",
       "    <tr>\n",
       "      <th>2021-10-02</th>\n",
       "      <td>47710.52</td>\n",
       "    </tr>\n",
       "    <tr>\n",
       "      <th>2021-10-03</th>\n",
       "      <td>48144.15</td>\n",
       "    </tr>\n",
       "    <tr>\n",
       "      <th>2021-10-04</th>\n",
       "      <td>49176.76</td>\n",
       "    </tr>\n",
       "    <tr>\n",
       "      <th>2021-10-05</th>\n",
       "      <td>51545.05</td>\n",
       "    </tr>\n",
       "    <tr>\n",
       "      <th>2021-10-06</th>\n",
       "      <td>55385.45</td>\n",
       "    </tr>\n",
       "  </tbody>\n",
       "</table>\n",
       "<p>3979 rows × 1 columns</p>\n",
       "</div>"
      ],
      "text/plain": [
       "               Close\n",
       "Date                \n",
       "2010-08-16      0.07\n",
       "2010-08-17      0.07\n",
       "2010-08-18      0.07\n",
       "2010-08-19      0.07\n",
       "2010-08-20      0.07\n",
       "...              ...\n",
       "2021-10-02  47710.52\n",
       "2021-10-03  48144.15\n",
       "2021-10-04  49176.76\n",
       "2021-10-05  51545.05\n",
       "2021-10-06  55385.45\n",
       "\n",
       "[3979 rows x 1 columns]"
      ]
     },
     "execution_count": 26,
     "metadata": {},
     "output_type": "execute_result"
    }
   ],
   "source": [
    "target_df"
   ]
  },
  {
   "cell_type": "code",
   "execution_count": 27,
   "id": "dd359e47",
   "metadata": {},
   "outputs": [],
   "source": [
    "##Splitting train, test, validation sets"
   ]
  },
  {
   "cell_type": "code",
   "execution_count": 28,
   "id": "ef398a82",
   "metadata": {},
   "outputs": [],
   "source": [
    "#Splitting validation sets from the final features and target df\n",
    "validation_x, validation_y = split_ValidationSet(normalized_features_df, target_df)"
   ]
  },
  {
   "cell_type": "code",
   "execution_count": 29,
   "id": "7af095e4",
   "metadata": {},
   "outputs": [
    {
     "name": "stdout",
     "output_type": "stream",
     "text": [
      "validation_x has (rows, columns) : (89, 6) \n",
      "validation_y has (rows, columns) : (89, 1) \n"
     ]
    }
   ],
   "source": [
    "print(\"validation_x has (rows, columns) : {} \".format(validation_x.shape))\n",
    "print(\"validation_y has (rows, columns) : {} \".format(validation_y.shape))"
   ]
  },
  {
   "cell_type": "code",
   "execution_count": 30,
   "id": "47f22b80",
   "metadata": {},
   "outputs": [],
   "source": [
    "#splitting train and test set from validation set\n",
    "\n",
    "final_features_df, final_target_df = split_Final_df(normalized_features_df, target_df)"
   ]
  },
  {
   "cell_type": "code",
   "execution_count": 31,
   "id": "d1e35e66",
   "metadata": {},
   "outputs": [
    {
     "name": "stdout",
     "output_type": "stream",
     "text": [
      "final_features_df has (rows, columns) : (3889, 6) \n",
      "final_target_df has (rows, columns) : (3889, 1) \n"
     ]
    }
   ],
   "source": [
    "print(\"final_features_df has (rows, columns) : {} \".format(final_features_df.shape))\n",
    "print(\"final_target_df has (rows, columns) : {} \".format(final_target_df.shape))"
   ]
  },
  {
   "cell_type": "code",
   "execution_count": 32,
   "id": "13acc85a",
   "metadata": {},
   "outputs": [],
   "source": [
    "##Splitting Train and Test using Skleans TimeSeriesSplit"
   ]
  },
  {
   "cell_type": "code",
   "execution_count": 33,
   "id": "35188c2c",
   "metadata": {},
   "outputs": [],
   "source": [
    "#splitting train and test\n",
    "x_train, y_train, x_test, y_test = split_Train_Test_DF(final_features_df, final_target_df)"
   ]
  },
  {
   "cell_type": "code",
   "execution_count": 34,
   "id": "850769ad",
   "metadata": {},
   "outputs": [
    {
     "name": "stdout",
     "output_type": "stream",
     "text": [
      "Shape of training sets x_train : (3536, 6), y_train : (3536,)\n",
      "Shape of testing sets x_test : (353, 6), y_test : (353,)\n"
     ]
    }
   ],
   "source": [
    "print(\"Shape of training sets x_train : {}, y_train : {}\".format(x_train.shape, y_train.shape))\n",
    "print(\"Shape of testing sets x_test : {}, y_test : {}\".format(x_test.shape, y_test.shape))"
   ]
  },
  {
   "cell_type": "code",
   "execution_count": 35,
   "id": "76a1e9fe",
   "metadata": {},
   "outputs": [
    {
     "data": {
      "image/png": "[encoded data removed]",
      "text/plain": [
       "<Figure size 1440x720 with 1 Axes>"
      ]
     },
     "metadata": {
      "needs_background": "light"
     },
     "output_type": "display_data"
    }
   ],
   "source": [
    "#Visualizing the train, test and validation sets in single plot\n",
    "#Starbucks\n",
    "DataSet_Graph()"
   ]
  },
  {
   "cell_type": "markdown",
   "id": "1f87a1dd-259b-45f7-90ad-d7d34edcb242",
   "metadata": {},
   "source": [
    "### LSTM Model - Pre_work"
   ]
  },
  {
   "cell_type": "code",
   "execution_count": 36,
   "id": "fbdc4074-e056-4e3f-a6c8-08489563bd6b",
   "metadata": {},
   "outputs": [],
   "source": [
    "# x_train and x_test were normalized already using the MinMax scaler, which is a prework requirement for LSTM\n",
    "# y_train and y_test need to be scaled for the LSTM model\n",
    "# y_test and y_train need to be reshaped\n",
    "y_train = np.array(y_train).reshape(-1, 1)\n",
    "y_test = np.array(y_test).reshape(-1, 1)\n",
    "\n",
    "\n",
    "# Fit the MinMaxScaler object with the training target data y_train\n",
    "scaler = MinMaxScaler()\n",
    "scaler.fit(y_train)\n",
    "\n",
    "# Scale the target training and testing sets\n",
    "y_train_scaled = scaler.transform(y_train)\n",
    "y_test_scaled = scaler.transform(y_test)"
   ]
  },
  {
   "cell_type": "code",
   "execution_count": 37,
   "id": "0b2c1fc4-b067-497b-9001-ec338b72b702",
   "metadata": {},
   "outputs": [],
   "source": [
    "# y_train_scaled\n",
    "# y_test_scaled\n",
    "# x_train.tail(20)"
   ]
  },
  {
   "cell_type": "markdown",
   "id": "c1b2ae52-0669-4247-a36d-d550bd99df6a",
   "metadata": {},
   "source": [
    "### LSTM Model"
   ]
  },
  {
   "cell_type": "code",
   "execution_count": 38,
   "id": "dd68a066-39a7-42c2-b2de-3b3c5e4f0290",
   "metadata": {},
   "outputs": [],
   "source": [
    "# X_train Dataframe:\n",
    "# Creating the Features (X_lstm) and Target (y_lstm) data\n",
    "# This function accepts the column number for the features (X) and the target (y)\n",
    "def window_data(lstm_data, window, feature_col_number, target_col_number):\n",
    "    X_lstm_train = []\n",
    "    y_lstm_train = []\n",
    "    for i in range(len(lstm_data) - window):\n",
    "        features = lstm_data.iloc[i:(i + window), feature_col_number]\n",
    "        target = lstm_data.iloc[(i + window), target_col_number]\n",
    "        X_lstm_train.append(features)\n",
    "        y_lstm_train.append(target)\n",
    "    return np.array(X_lstm_train), np.array(y_lstm_train).reshape(-1, 1)"
   ]
  },
  {
   "cell_type": "code",
   "execution_count": 39,
   "id": "c9354cb8-58a9-4245-b31c-d05949819cc5",
   "metadata": {},
   "outputs": [],
   "source": [
    "# Creating the features (X) and target (y) data using the window_data() function.\n",
    "window_size = 3\n",
    "\n",
    "feature_column = 3\n",
    "target_column = 3\n",
    "X_lstm_train, y_lstm_train = window_data(x_train, window_size, feature_column, target_column)"
   ]
  },
  {
   "cell_type": "code",
   "execution_count": 40,
   "id": "f9e3a160-e312-4b62-97cf-1b0d3f22f476",
   "metadata": {},
   "outputs": [
    {
     "name": "stdout",
     "output_type": "stream",
     "text": [
      "X_lstm_training sample values:\n",
      "[[1.57409865e-07 1.57409865e-07 1.57409865e-07]\n",
      " [1.57409865e-07 1.57409865e-07 1.57409865e-07]\n",
      " [1.57409865e-07 1.57409865e-07 1.57409865e-07]\n",
      " [1.57409865e-07 1.57409865e-07 1.57409865e-07]\n",
      " [1.57409865e-07 1.57409865e-07 1.57409865e-07]] \n",
      "\n",
      "y_lstm_training sample values:\n",
      "[[1.57409865e-07]\n",
      " [1.57409865e-07]\n",
      " [1.57409865e-07]\n",
      " [1.57409865e-07]\n",
      " [0.00000000e+00]]\n"
     ]
    }
   ],
   "source": [
    "print (f\"X_lstm_training sample values:\\n{X_lstm_train[:5]} \\n\")\n",
    "print (f\"y_lstm_training sample values:\\n{y_lstm_train[:5]}\")"
   ]
  },
  {
   "cell_type": "code",
   "execution_count": 41,
   "id": "fef31e8f-b198-4244-b312-6fbe1b497a4d",
   "metadata": {},
   "outputs": [],
   "source": [
    "# X_test Dataframe:\n",
    "# Creating the Features (X_lstm) and Target (y_lstm) data\n",
    "# This function accepts the column number for the features (X) and the target (y)\n",
    "def window_data(lstm_data, window, feature_col_number, target_col_number):\n",
    "    X_lstm_test = []\n",
    "    y_lstm_test = []\n",
    "    for i in range(len(lstm_data) - window):\n",
    "        features = lstm_data.iloc[i:(i + window), feature_col_number]\n",
    "        target = lstm_data.iloc[(i + window), target_col_number]\n",
    "        X_lstm_test.append(features)\n",
    "        y_lstm_test.append(target)\n",
    "    return np.array(X_lstm_test), np.array(y_lstm_test).reshape(-1, 1)"
   ]
  },
  {
   "cell_type": "code",
   "execution_count": 42,
   "id": "ae6c5acb-d947-4d1a-a50d-e7b8c810c127",
   "metadata": {},
   "outputs": [],
   "source": [
    "# Creating the features (X) and target (y) data using the window_data() function.\n",
    "window_size = 3\n",
    "\n",
    "feature_column = 3\n",
    "target_column = 3\n",
    "X_lstm_test, y_lstm_test = window_data(x_test, window_size, feature_column, target_column)"
   ]
  },
  {
   "cell_type": "code",
   "execution_count": 43,
   "id": "5d676de4-0005-48a4-9d32-770acc7dfb9b",
   "metadata": {},
   "outputs": [
    {
     "name": "stdout",
     "output_type": "stream",
     "text": [
      "X_lstm_testing sample values:\n",
      "[[0.14773089 0.14983593 0.15100171]\n",
      " [0.14983593 0.15100171 0.15024756]\n",
      " [0.15100171 0.15024756 0.15246814]\n",
      " [0.15024756 0.15246814 0.15610809]\n",
      " [0.15246814 0.15610809 0.17309544]] \n",
      "\n",
      "y_lstm_testing sample values:\n",
      "[[0.15024756]\n",
      " [0.15246814]\n",
      " [0.15610809]\n",
      " [0.17309544]\n",
      " [0.17150859]]\n"
     ]
    }
   ],
   "source": [
    "print (f\"X_lstm_testing sample values:\\n{X_lstm_test[:5]} \\n\")\n",
    "print (f\"y_lstm_testing sample values:\\n{y_lstm_test[:5]}\")"
   ]
  },
  {
   "cell_type": "code",
   "execution_count": 44,
   "id": "32a82dec-7313-499e-bd2e-cdc45c59e772",
   "metadata": {},
   "outputs": [
    {
     "name": "stdout",
     "output_type": "stream",
     "text": [
      "X_train_lstm sample values:\n",
      "[[[1.57409865e-07]\n",
      "  [1.57409865e-07]\n",
      "  [1.57409865e-07]]\n",
      "\n",
      " [[1.57409865e-07]\n",
      "  [1.57409865e-07]\n",
      "  [1.57409865e-07]]\n",
      "\n",
      " [[1.57409865e-07]\n",
      "  [1.57409865e-07]\n",
      "  [1.57409865e-07]]\n",
      "\n",
      " [[1.57409865e-07]\n",
      "  [1.57409865e-07]\n",
      "  [1.57409865e-07]]\n",
      "\n",
      " [[1.57409865e-07]\n",
      "  [1.57409865e-07]\n",
      "  [1.57409865e-07]]] \n",
      "\n",
      "X_test_lstm sample values:\n",
      "[[[0.14773089]\n",
      "  [0.14983593]\n",
      "  [0.15100171]]\n",
      "\n",
      " [[0.14983593]\n",
      "  [0.15100171]\n",
      "  [0.15024756]]\n",
      "\n",
      " [[0.15100171]\n",
      "  [0.15024756]\n",
      "  [0.15246814]]\n",
      "\n",
      " [[0.15024756]\n",
      "  [0.15246814]\n",
      "  [0.15610809]]\n",
      "\n",
      " [[0.15246814]\n",
      "  [0.15610809]\n",
      "  [0.17309544]]]\n"
     ]
    }
   ],
   "source": [
    "# Keras needs to receive the features data as a vertical vector therefore, the X data was reshaped \n",
    "# Reshape the features for the model\n",
    "X_lstm_train = X_lstm_train.reshape((X_lstm_train.shape[0], X_lstm_train.shape[1], 1))\n",
    "X_lstm_test = X_lstm_test.reshape((X_lstm_test.shape[0], X_lstm_test.shape[1], 1))\n",
    "print (f\"X_train_lstm sample values:\\n{X_lstm_train[:5]} \\n\")\n",
    "print (f\"X_test_lstm sample values:\\n{X_lstm_test[:5]}\")"
   ]
  },
  {
   "cell_type": "code",
   "execution_count": 45,
   "id": "9aa72e05-aa81-41b0-96cf-ec656ee58de9",
   "metadata": {},
   "outputs": [],
   "source": [
    "# Import required Keras modules\n",
    "from tensorflow.keras.models import Sequential\n",
    "from tensorflow.keras.layers import LSTM, Dense, Dropout"
   ]
  },
  {
   "cell_type": "code",
   "execution_count": 46,
   "id": "b007f498-0b4f-4364-bc07-344b4269b0c4",
   "metadata": {},
   "outputs": [],
   "source": [
    "# Define the LSTM RNN model.\n",
    "model = Sequential()\n",
    "\n",
    "number_units = 5\n",
    "dropout_fraction = 0.2\n",
    "\n",
    "# Layer 1\n",
    "model.add(LSTM(\n",
    "    units=number_units,\n",
    "    return_sequences=True,\n",
    "    input_shape=(X_lstm_train.shape[1], 1))\n",
    "    )\n",
    "model.add(Dropout(dropout_fraction))\n",
    "# Layer 2\n",
    "model.add(LSTM(units=number_units, return_sequences=True))\n",
    "model.add(Dropout(dropout_fraction))\n",
    "# Layer 3\n",
    "model.add(LSTM(units=number_units))\n",
    "model.add(Dropout(dropout_fraction))\n",
    "# Output layer\n",
    "model.add(Dense(1))"
   ]
  },
  {
   "cell_type": "code",
   "execution_count": 47,
   "id": "ed8e32bf-0bde-4830-add9-71a72fe38350",
   "metadata": {},
   "outputs": [],
   "source": [
    "# Compile the model\n",
    "model.compile(optimizer=\"adam\", loss=\"mean_squared_error\")"
   ]
  },
  {
   "cell_type": "code",
   "execution_count": 48,
   "id": "4b988be6-1aaa-4a16-8da3-166f48830e7c",
   "metadata": {},
   "outputs": [
    {
     "name": "stdout",
     "output_type": "stream",
     "text": [
      "Model: \"sequential\"\n",
      "_________________________________________________________________\n",
      "Layer (type)                 Output Shape              Param #   \n",
      "=================================================================\n",
      "lstm (LSTM)                  (None, 3, 5)              140       \n",
      "_________________________________________________________________\n",
      "dropout (Dropout)            (None, 3, 5)              0         \n",
      "_________________________________________________________________\n",
      "lstm_1 (LSTM)                (None, 3, 5)              220       \n",
      "_________________________________________________________________\n",
      "dropout_1 (Dropout)          (None, 3, 5)              0         \n",
      "_________________________________________________________________\n",
      "lstm_2 (LSTM)                (None, 5)                 220       \n",
      "_________________________________________________________________\n",
      "dropout_2 (Dropout)          (None, 5)                 0         \n",
      "_________________________________________________________________\n",
      "dense (Dense)                (None, 1)                 6         \n",
      "=================================================================\n",
      "Total params: 586\n",
      "Trainable params: 586\n",
      "Non-trainable params: 0\n",
      "_________________________________________________________________\n"
     ]
    }
   ],
   "source": [
    "# Summarize the model\n",
    "model.summary()"
   ]
  },
  {
   "cell_type": "code",
   "execution_count": 49,
   "id": "a189027a-eef2-4083-aa10-df1d09e7a21d",
   "metadata": {},
   "outputs": [
    {
     "name": "stdout",
     "output_type": "stream",
     "text": [
      "Epoch 1/10\n",
      "354/354 [==============================] - 15s 10ms/step - loss: 7.8590e-04\n",
      "Epoch 2/10\n",
      "354/354 [==============================] - 4s 11ms/step - loss: 0.0020\n",
      "Epoch 3/10\n",
      "354/354 [==============================] - 4s 10ms/step - loss: 0.0022\n",
      "Epoch 4/10\n",
      "354/354 [==============================] - 3s 10ms/step - loss: 0.0023\n",
      "Epoch 5/10\n",
      "354/354 [==============================] - 4s 11ms/step - loss: 0.0022\n",
      "Epoch 6/10\n",
      "354/354 [==============================] - 4s 10ms/step - loss: 0.0019\n",
      "Epoch 7/10\n",
      "354/354 [==============================] - 4s 11ms/step - loss: 0.0011\n",
      "Epoch 8/10\n",
      "354/354 [==============================] - 4s 10ms/step - loss: 6.5269e-04\n",
      "Epoch 9/10\n",
      "354/354 [==============================] - 4s 10ms/step - loss: 5.4312e-04\n",
      "Epoch 10/10\n",
      "354/354 [==============================] - 4s 10ms/step - loss: 5.2235e-04\n"
     ]
    },
    {
     "data": {
      "text/plain": [
       "<keras.callbacks.History at 0x249f2c0bd88>"
      ]
     },
     "execution_count": 49,
     "metadata": {},
     "output_type": "execute_result"
    }
   ],
   "source": [
    "# Train the model\n",
    "model.fit(X_lstm_train, y_lstm_train, epochs=10, shuffle=False, batch_size=10, verbose=1)"
   ]
  },
  {
   "cell_type": "markdown",
   "id": "59d6685c-fc58-4b65-8af3-7fff317147c1",
   "metadata": {},
   "source": [
    "### LSTM Model"
   ]
  },
  {
   "cell_type": "code",
   "execution_count": 50,
   "id": "d0d2a7be-4733-4f13-a934-7750bb24053b",
   "metadata": {},
   "outputs": [
    {
     "name": "stdout",
     "output_type": "stream",
     "text": [
      "11/11 [==============================] - 3s 4ms/step - loss: 0.0599 \n"
     ]
    }
   ],
   "source": [
    "# Evaluate the model\n",
    "model_3d = model.evaluate(X_lstm_test, y_lstm_test)"
   ]
  },
  {
   "cell_type": "code",
   "execution_count": 51,
   "id": "27e8f166-7507-43f2-bc1c-1a4e2cdd7646",
   "metadata": {},
   "outputs": [
    {
     "name": "stdout",
     "output_type": "stream",
     "text": [
      "Loss of the Model Using 3-day window:0.0599287748336792\n"
     ]
    }
   ],
   "source": [
    "print (f\"Loss of the Model Using 3-day window:{model_3d}\" )"
   ]
  },
  {
   "cell_type": "code",
   "execution_count": 52,
   "id": "0caf4e85-d267-454b-9aa7-f77addce1a4f",
   "metadata": {},
   "outputs": [],
   "source": [
    "# Make some predictions\n",
    "predicted_lstm = model.predict(X_lstm_test)"
   ]
  },
  {
   "cell_type": "code",
   "execution_count": 53,
   "id": "273a3aa1-94d0-46c4-81df-d5a0733c2fac",
   "metadata": {},
   "outputs": [],
   "source": [
    "# Recover the original prices instead of the scaled version\n",
    "predicted_prices = scaler.inverse_transform(predicted_lstm)\n",
    "real_prices = scaler.inverse_transform(y_lstm_test.reshape(-1, 1))"
   ]
  },
  {
   "cell_type": "code",
   "execution_count": 54,
   "id": "d879119d-b8c0-4839-af93-4be633466fa2",
   "metadata": {},
   "outputs": [
    {
     "data": {
      "text/html": [
       "<div>\n",
       "<style scoped>\n",
       "    .dataframe tbody tr th:only-of-type {\n",
       "        vertical-align: middle;\n",
       "    }\n",
       "\n",
       "    .dataframe tbody tr th {\n",
       "        vertical-align: top;\n",
       "    }\n",
       "\n",
       "    .dataframe thead th {\n",
       "        text-align: right;\n",
       "    }\n",
       "</style>\n",
       "<table border=\"1\" class=\"dataframe\">\n",
       "  <thead>\n",
       "    <tr style=\"text-align: right;\">\n",
       "      <th></th>\n",
       "      <th>Real</th>\n",
       "      <th>Predicted</th>\n",
       "    </tr>\n",
       "    <tr>\n",
       "      <th>Date</th>\n",
       "      <th></th>\n",
       "      <th></th>\n",
       "    </tr>\n",
       "  </thead>\n",
       "  <tbody>\n",
       "    <tr>\n",
       "      <th>2019-08-06</th>\n",
       "      <td>2918.980920</td>\n",
       "      <td>2818.319824</td>\n",
       "    </tr>\n",
       "    <tr>\n",
       "      <th>2019-08-07</th>\n",
       "      <td>2962.121057</td>\n",
       "      <td>2844.887695</td>\n",
       "    </tr>\n",
       "    <tr>\n",
       "      <th>2019-08-08</th>\n",
       "      <td>3032.835775</td>\n",
       "      <td>2857.259033</td>\n",
       "    </tr>\n",
       "    <tr>\n",
       "      <th>2019-08-09</th>\n",
       "      <td>3362.856139</td>\n",
       "      <td>2868.129639</td>\n",
       "    </tr>\n",
       "    <tr>\n",
       "      <th>2019-08-10</th>\n",
       "      <td>3332.027776</td>\n",
       "      <td>2943.478516</td>\n",
       "    </tr>\n",
       "  </tbody>\n",
       "</table>\n",
       "</div>"
      ],
      "text/plain": [
       "                   Real    Predicted\n",
       "Date                                \n",
       "2019-08-06  2918.980920  2818.319824\n",
       "2019-08-07  2962.121057  2844.887695\n",
       "2019-08-08  3032.835775  2857.259033\n",
       "2019-08-09  3362.856139  2868.129639\n",
       "2019-08-10  3332.027776  2943.478516"
      ]
     },
     "execution_count": 54,
     "metadata": {},
     "output_type": "execute_result"
    }
   ],
   "source": [
    "# Create a DataFrame of Real and Predicted values\n",
    "lstm_comparison = pd.DataFrame({\n",
    "    \"Real\": real_prices.ravel(),\n",
    "    \"Predicted\": predicted_prices.ravel()\n",
    "    }, index = x_train.index[-len(real_prices): ])\n",
    "lstm_comparison.head()"
   ]
  },
  {
   "cell_type": "code",
   "execution_count": 55,
   "id": "366cdf20-b3cc-4ee2-84c3-11e68eda50b1",
   "metadata": {},
   "outputs": [
    {
     "data": {
      "text/plain": [
       "<matplotlib.axes._subplots.AxesSubplot at 0x249fb8ff048>"
      ]
     },
     "execution_count": 55,
     "metadata": {},
     "output_type": "execute_result"
    },
    {
     "data": {
      "image/png": "[encoded data removed]",
      "text/plain": [
       "<Figure size 432x288 with 1 Axes>"
      ]
     },
     "metadata": {
      "needs_background": "light"
     },
     "output_type": "display_data"
    }
   ],
   "source": [
    "# Plot the real vs predicted prices as a line chart\n",
    "\n",
    "lstm_comparison.plot(title=\"Actual Vs. Predicted Bitcoin Closing Prices Using a 3-day window\")"
   ]
  },
  {
   "cell_type": "code",
   "execution_count": 56,
   "id": "fe3846e5-17ba-4082-aba7-89eb8b6368be",
   "metadata": {},
   "outputs": [
    {
     "data": {
      "text/html": [
       "<div>\n",
       "<style scoped>\n",
       "    .dataframe tbody tr th:only-of-type {\n",
       "        vertical-align: middle;\n",
       "    }\n",
       "\n",
       "    .dataframe tbody tr th {\n",
       "        vertical-align: top;\n",
       "    }\n",
       "\n",
       "    .dataframe thead th {\n",
       "        text-align: right;\n",
       "    }\n",
       "</style>\n",
       "<table border=\"1\" class=\"dataframe\">\n",
       "  <thead>\n",
       "    <tr style=\"text-align: right;\">\n",
       "      <th></th>\n",
       "      <th>Open</th>\n",
       "      <th>High</th>\n",
       "      <th>Low</th>\n",
       "      <th>Close</th>\n",
       "      <th>Volume</th>\n",
       "      <th>Market Cap</th>\n",
       "    </tr>\n",
       "    <tr>\n",
       "      <th>Date</th>\n",
       "      <th></th>\n",
       "      <th></th>\n",
       "      <th></th>\n",
       "      <th></th>\n",
       "      <th></th>\n",
       "      <th></th>\n",
       "    </tr>\n",
       "  </thead>\n",
       "  <tbody>\n",
       "    <tr>\n",
       "      <th>2021-07-09</th>\n",
       "      <td>0.517692</td>\n",
       "      <td>0.525138</td>\n",
       "      <td>0.520552</td>\n",
       "      <td>0.533086</td>\n",
       "      <td>0.362565</td>\n",
       "      <td>0.524838</td>\n",
       "    </tr>\n",
       "    <tr>\n",
       "      <th>2021-07-10</th>\n",
       "      <td>0.532117</td>\n",
       "      <td>0.527886</td>\n",
       "      <td>0.533732</td>\n",
       "      <td>0.528091</td>\n",
       "      <td>0.311205</td>\n",
       "      <td>0.533358</td>\n",
       "    </tr>\n",
       "    <tr>\n",
       "      <th>2021-07-11</th>\n",
       "      <td>0.527365</td>\n",
       "      <td>0.532804</td>\n",
       "      <td>0.536715</td>\n",
       "      <td>0.539124</td>\n",
       "      <td>0.263028</td>\n",
       "      <td>0.534764</td>\n",
       "    </tr>\n",
       "    <tr>\n",
       "      <th>2021-07-12</th>\n",
       "      <td>0.538589</td>\n",
       "      <td>0.533218</td>\n",
       "      <td>0.526768</td>\n",
       "      <td>0.522904</td>\n",
       "      <td>0.281709</td>\n",
       "      <td>0.533311</td>\n",
       "    </tr>\n",
       "    <tr>\n",
       "      <th>2021-07-13</th>\n",
       "      <td>0.521676</td>\n",
       "      <td>0.513541</td>\n",
       "      <td>0.519768</td>\n",
       "      <td>0.512645</td>\n",
       "      <td>0.256496</td>\n",
       "      <td>0.519878</td>\n",
       "    </tr>\n",
       "    <tr>\n",
       "      <th>...</th>\n",
       "      <td>...</td>\n",
       "      <td>...</td>\n",
       "      <td>...</td>\n",
       "      <td>...</td>\n",
       "      <td>...</td>\n",
       "      <td>...</td>\n",
       "    </tr>\n",
       "    <tr>\n",
       "      <th>2021-10-01</th>\n",
       "      <td>0.688765</td>\n",
       "      <td>0.746543</td>\n",
       "      <td>0.698110</td>\n",
       "      <td>0.756832</td>\n",
       "      <td>0.297243</td>\n",
       "      <td>0.731664</td>\n",
       "    </tr>\n",
       "    <tr>\n",
       "      <th>2021-10-02</th>\n",
       "      <td>0.757691</td>\n",
       "      <td>0.744382</td>\n",
       "      <td>0.764494</td>\n",
       "      <td>0.751010</td>\n",
       "      <td>0.285711</td>\n",
       "      <td>0.760010</td>\n",
       "    </tr>\n",
       "    <tr>\n",
       "      <th>2021-10-03</th>\n",
       "      <td>0.750244</td>\n",
       "      <td>0.758506</td>\n",
       "      <td>0.760466</td>\n",
       "      <td>0.757835</td>\n",
       "      <td>0.224211</td>\n",
       "      <td>0.762886</td>\n",
       "    </tr>\n",
       "    <tr>\n",
       "      <th>2021-10-04</th>\n",
       "      <td>0.758306</td>\n",
       "      <td>0.762554</td>\n",
       "      <td>0.757040</td>\n",
       "      <td>0.774090</td>\n",
       "      <td>0.286299</td>\n",
       "      <td>0.765162</td>\n",
       "    </tr>\n",
       "    <tr>\n",
       "      <th>2021-10-05</th>\n",
       "      <td>0.775413</td>\n",
       "      <td>0.798957</td>\n",
       "      <td>0.790248</td>\n",
       "      <td>0.811369</td>\n",
       "      <td>0.323339</td>\n",
       "      <td>0.795571</td>\n",
       "    </tr>\n",
       "  </tbody>\n",
       "</table>\n",
       "<p>89 rows × 6 columns</p>\n",
       "</div>"
      ],
      "text/plain": [
       "                Open      High       Low     Close    Volume  Market Cap\n",
       "Date                                                                    \n",
       "2021-07-09  0.517692  0.525138  0.520552  0.533086  0.362565    0.524838\n",
       "2021-07-10  0.532117  0.527886  0.533732  0.528091  0.311205    0.533358\n",
       "2021-07-11  0.527365  0.532804  0.536715  0.539124  0.263028    0.534764\n",
       "2021-07-12  0.538589  0.533218  0.526768  0.522904  0.281709    0.533311\n",
       "2021-07-13  0.521676  0.513541  0.519768  0.512645  0.256496    0.519878\n",
       "...              ...       ...       ...       ...       ...         ...\n",
       "2021-10-01  0.688765  0.746543  0.698110  0.756832  0.297243    0.731664\n",
       "2021-10-02  0.757691  0.744382  0.764494  0.751010  0.285711    0.760010\n",
       "2021-10-03  0.750244  0.758506  0.760466  0.757835  0.224211    0.762886\n",
       "2021-10-04  0.758306  0.762554  0.757040  0.774090  0.286299    0.765162\n",
       "2021-10-05  0.775413  0.798957  0.790248  0.811369  0.323339    0.795571\n",
       "\n",
       "[89 rows x 6 columns]"
      ]
     },
     "execution_count": 56,
     "metadata": {},
     "output_type": "execute_result"
    }
   ],
   "source": [
    "validation_x"
   ]
  },
  {
   "cell_type": "code",
   "execution_count": null,
   "id": "f6d67517-77ff-490e-b209-a2e0e2f71285",
   "metadata": {},
   "outputs": [],
   "source": []
  },
  {
   "cell_type": "code",
   "execution_count": 57,
   "id": "46228b74-12a6-457a-b3bc-301baae9ae75",
   "metadata": {},
   "outputs": [],
   "source": [
    "# Validation Dataframe:\n",
    "# Creating the Features (X_lstm) and Target (y_lstm) data\n",
    "# This function accepts the column number for the features (X) and the target (y)\n",
    "def window_data(lstm_data, window, feature_col_number, target_col_number):\n",
    "    X_lstm_val = []\n",
    "    y_lstm_val = []\n",
    "    for i in range(len(lstm_data) - window):\n",
    "        features = lstm_data.iloc[i:(i + window), feature_col_number]\n",
    "        target = lstm_data.iloc[(i + window), target_col_number]\n",
    "        X_lstm_val.append(features)\n",
    "        y_lstm_val.append(target)\n",
    "    return np.array(X_lstm_val), np.array(y_lstm_val).reshape(-1, 1)"
   ]
  },
  {
   "cell_type": "code",
   "execution_count": 58,
   "id": "ef9ed4a4-e488-441d-a775-887321804aa4",
   "metadata": {},
   "outputs": [],
   "source": [
    "# Creating the features (X) and target (y) data using the window_data() function.\n",
    "window_size = 3\n",
    "\n",
    "feature_column = 3\n",
    "target_column = 3\n",
    "X_lstm_val, y_lstm_val = window_data(validation_x, window_size, feature_column, target_column)"
   ]
  },
  {
   "cell_type": "code",
   "execution_count": 59,
   "id": "80ebc5b9-2ebf-4f64-bed1-79584e2c0fcf",
   "metadata": {},
   "outputs": [
    {
     "name": "stdout",
     "output_type": "stream",
     "text": [
      "X_lstm_validation sample values:\n",
      "[[0.53308645 0.52809058 0.53912422]\n",
      " [0.52809058 0.53912422 0.52290439]\n",
      " [0.53912422 0.52290439 0.51264473]\n",
      " [0.52290439 0.51264473 0.51592783]\n",
      " [0.51264473 0.51592783 0.49806669]] \n",
      "\n",
      "y_lstm_validation sample values:\n",
      "[[0.52290439]\n",
      " [0.51264473]\n",
      " [0.51592783]\n",
      " [0.49806669]\n",
      " [0.49403857]]\n"
     ]
    }
   ],
   "source": [
    "print (f\"X_lstm_validation sample values:\\n{X_lstm_val[:5]} \\n\")\n",
    "print (f\"y_lstm_validation sample values:\\n{y_lstm_val[:5]}\")"
   ]
  },
  {
   "cell_type": "code",
   "execution_count": 60,
   "id": "6545df92-f47d-41af-b624-1573a4b16ab9",
   "metadata": {},
   "outputs": [
    {
     "name": "stdout",
     "output_type": "stream",
     "text": [
      "X_validation_lstm sample values:\n",
      "[[[0.53308645]\n",
      "  [0.52809058]\n",
      "  [0.53912422]]\n",
      "\n",
      " [[0.52809058]\n",
      "  [0.53912422]\n",
      "  [0.52290439]]\n",
      "\n",
      " [[0.53912422]\n",
      "  [0.52290439]\n",
      "  [0.51264473]]\n",
      "\n",
      " [[0.52290439]\n",
      "  [0.51264473]\n",
      "  [0.51592783]]\n",
      "\n",
      " [[0.51264473]\n",
      "  [0.51592783]\n",
      "  [0.49806669]]] \n",
      "\n"
     ]
    }
   ],
   "source": [
    "# Keras needs to receive the features data as a vertical vector therefore, the X data was reshaped \n",
    "# Reshape the features for the model\n",
    "X_lstm_val = X_lstm_val.reshape((X_lstm_val.shape[0], X_lstm_val.shape[1], 1))\n",
    "print (f\"X_validation_lstm sample values:\\n{X_lstm_val[:5]} \\n\")"
   ]
  },
  {
   "cell_type": "code",
   "execution_count": 61,
   "id": "e28c5a7d-c563-4abb-b533-f2da5cee0c79",
   "metadata": {},
   "outputs": [],
   "source": [
    "# Define the LSTM RNN model.\n",
    "model2 = Sequential()\n",
    "\n",
    "number_units = 5\n",
    "dropout_fraction = 0.2\n",
    "\n",
    "# Layer 1\n",
    "model2.add(LSTM(\n",
    "    units=number_units,\n",
    "    return_sequences=True,\n",
    "    input_shape=(X_lstm_val.shape[1], 1))\n",
    "    )\n",
    "model2.add(Dropout(dropout_fraction))\n",
    "# Layer 2\n",
    "model2.add(LSTM(units=number_units, return_sequences=True))\n",
    "model2.add(Dropout(dropout_fraction))\n",
    "# Layer 3\n",
    "model2.add(LSTM(units=number_units))\n",
    "model2.add(Dropout(dropout_fraction))\n",
    "# Output layer\n",
    "model2.add(Dense(1))"
   ]
  },
  {
   "cell_type": "code",
   "execution_count": 62,
   "id": "c80ff223-90f8-4632-bfb3-05853b681d4c",
   "metadata": {},
   "outputs": [],
   "source": [
    "# Compile the model\n",
    "model2.compile(optimizer=\"adam\", loss=\"mean_squared_error\")"
   ]
  },
  {
   "cell_type": "code",
   "execution_count": 63,
   "id": "c1b14253-b5a9-462c-bce0-80e447d6b9ef",
   "metadata": {},
   "outputs": [
    {
     "name": "stdout",
     "output_type": "stream",
     "text": [
      "Model: \"sequential_1\"\n",
      "_________________________________________________________________\n",
      "Layer (type)                 Output Shape              Param #   \n",
      "=================================================================\n",
      "lstm_3 (LSTM)                (None, 3, 5)              140       \n",
      "_________________________________________________________________\n",
      "dropout_3 (Dropout)          (None, 3, 5)              0         \n",
      "_________________________________________________________________\n",
      "lstm_4 (LSTM)                (None, 3, 5)              220       \n",
      "_________________________________________________________________\n",
      "dropout_4 (Dropout)          (None, 3, 5)              0         \n",
      "_________________________________________________________________\n",
      "lstm_5 (LSTM)                (None, 5)                 220       \n",
      "_________________________________________________________________\n",
      "dropout_5 (Dropout)          (None, 5)                 0         \n",
      "_________________________________________________________________\n",
      "dense_1 (Dense)              (None, 1)                 6         \n",
      "=================================================================\n",
      "Total params: 586\n",
      "Trainable params: 586\n",
      "Non-trainable params: 0\n",
      "_________________________________________________________________\n"
     ]
    }
   ],
   "source": [
    "# Summarize the model\n",
    "model2.summary()"
   ]
  },
  {
   "cell_type": "code",
   "execution_count": 64,
   "id": "f3baabe5-e7e2-44fe-8307-c686e381dd23",
   "metadata": {},
   "outputs": [
    {
     "name": "stdout",
     "output_type": "stream",
     "text": [
      "Epoch 1/10\n",
      "9/9 [==============================] - 0s 10ms/step - loss: 0.0686\n",
      "Epoch 2/10\n",
      "9/9 [==============================] - 0s 10ms/step - loss: 0.0299\n",
      "Epoch 3/10\n",
      "9/9 [==============================] - 0s 10ms/step - loss: 0.0343\n",
      "Epoch 4/10\n",
      "9/9 [==============================] - 0s 11ms/step - loss: 0.0315\n",
      "Epoch 5/10\n",
      "9/9 [==============================] - 0s 10ms/step - loss: 0.0355\n",
      "Epoch 6/10\n",
      "9/9 [==============================] - 0s 10ms/step - loss: 0.0222\n",
      "Epoch 7/10\n",
      "9/9 [==============================] - 0s 11ms/step - loss: 0.0230\n",
      "Epoch 8/10\n",
      "9/9 [==============================] - 0s 11ms/step - loss: 0.0239\n",
      "Epoch 9/10\n",
      "9/9 [==============================] - 0s 14ms/step - loss: 0.0247\n",
      "Epoch 10/10\n",
      "9/9 [==============================] - 0s 12ms/step - loss: 0.0311\n"
     ]
    },
    {
     "data": {
      "text/plain": [
       "<keras.callbacks.History at 0x249fd03b688>"
      ]
     },
     "execution_count": 64,
     "metadata": {},
     "output_type": "execute_result"
    }
   ],
   "source": [
    "# Train the model\n",
    "model.fit(X_lstm_val, y_lstm_val, epochs=10, shuffle=False, batch_size=10, verbose=1)"
   ]
  },
  {
   "cell_type": "code",
   "execution_count": 65,
   "id": "6e529dd0-0dde-4f78-b0f8-8cb05abe8b37",
   "metadata": {},
   "outputs": [
    {
     "name": "stdout",
     "output_type": "stream",
     "text": [
      "3/3 [==============================] - 0s 5ms/step - loss: 0.0059\n"
     ]
    }
   ],
   "source": [
    "# Evaluate the model\n",
    "model_3d_val = model.evaluate(X_lstm_val, y_lstm_val)"
   ]
  },
  {
   "cell_type": "code",
   "execution_count": 66,
   "id": "b38fb630-6b43-4776-a445-ba3809e3e8b1",
   "metadata": {},
   "outputs": [
    {
     "name": "stdout",
     "output_type": "stream",
     "text": [
      "Loss of the Validation Model Using 3-day window:0.005926958285272121\n"
     ]
    }
   ],
   "source": [
    "print (f\"Loss of the Validation Model Using 3-day window:{model_3d_val}\" )"
   ]
  },
  {
   "cell_type": "code",
   "execution_count": 67,
   "id": "0fc94dea-46c4-4241-8ec2-58f0c40930a2",
   "metadata": {},
   "outputs": [],
   "source": [
    "# Make some predictions\n",
    "predicted_lstm_val = model2.predict(X_lstm_val)"
   ]
  },
  {
   "cell_type": "code",
   "execution_count": 68,
   "id": "d8e9e21e-d38f-485b-aecd-d3d41a824175",
   "metadata": {},
   "outputs": [],
   "source": [
    "# Recover the original prices instead of the scaled version\n",
    "predicted_prices = scaler.inverse_transform(predicted_lstm_val)\n",
    "real_prices = scaler.inverse_transform(y_lstm_val.reshape(-1, 1))"
   ]
  },
  {
   "cell_type": "code",
   "execution_count": 69,
   "id": "d301d095-d453-4c81-8e9f-1b4bb9fa54c0",
   "metadata": {},
   "outputs": [
    {
     "data": {
      "text/html": [
       "<div>\n",
       "<style scoped>\n",
       "    .dataframe tbody tr th:only-of-type {\n",
       "        vertical-align: middle;\n",
       "    }\n",
       "\n",
       "    .dataframe tbody tr th {\n",
       "        vertical-align: top;\n",
       "    }\n",
       "\n",
       "    .dataframe thead th {\n",
       "        text-align: right;\n",
       "    }\n",
       "</style>\n",
       "<table border=\"1\" class=\"dataframe\">\n",
       "  <thead>\n",
       "    <tr style=\"text-align: right;\">\n",
       "      <th></th>\n",
       "      <th>Real</th>\n",
       "      <th>Predicted_val</th>\n",
       "    </tr>\n",
       "    <tr>\n",
       "      <th>Date</th>\n",
       "      <th></th>\n",
       "      <th></th>\n",
       "    </tr>\n",
       "  </thead>\n",
       "  <tbody>\n",
       "    <tr>\n",
       "      <th>2020-04-26</th>\n",
       "      <td>10158.738065</td>\n",
       "      <td>391.495514</td>\n",
       "    </tr>\n",
       "    <tr>\n",
       "      <th>2020-04-27</th>\n",
       "      <td>9959.419440</td>\n",
       "      <td>390.328644</td>\n",
       "    </tr>\n",
       "    <tr>\n",
       "      <th>2020-04-28</th>\n",
       "      <td>10023.201522</td>\n",
       "      <td>388.591370</td>\n",
       "    </tr>\n",
       "    <tr>\n",
       "      <th>2020-04-29</th>\n",
       "      <td>9676.205834</td>\n",
       "      <td>379.828033</td>\n",
       "    </tr>\n",
       "    <tr>\n",
       "      <th>2020-04-30</th>\n",
       "      <td>9597.949925</td>\n",
       "      <td>374.203156</td>\n",
       "    </tr>\n",
       "  </tbody>\n",
       "</table>\n",
       "</div>"
      ],
      "text/plain": [
       "                    Real  Predicted_val\n",
       "Date                                   \n",
       "2020-04-26  10158.738065     391.495514\n",
       "2020-04-27   9959.419440     390.328644\n",
       "2020-04-28  10023.201522     388.591370\n",
       "2020-04-29   9676.205834     379.828033\n",
       "2020-04-30   9597.949925     374.203156"
      ]
     },
     "execution_count": 69,
     "metadata": {},
     "output_type": "execute_result"
    }
   ],
   "source": [
    "# Create a DataFrame of Real and Predicted values\n",
    "lstm_val_comparison = pd.DataFrame({\n",
    "    \"Real\": real_prices.ravel(),\n",
    "    \"Predicted_val\": predicted_prices.ravel()\n",
    "    }, index = x_train.index[-len(real_prices): ])\n",
    "lstm_val_comparison.head()"
   ]
  },
  {
   "cell_type": "code",
   "execution_count": null,
   "id": "a52ce254-22c8-4073-a69f-b70b0379632c",
   "metadata": {},
   "outputs": [],
   "source": []
  },
  {
   "cell_type": "code",
   "execution_count": null,
   "id": "73e2e6a8",
   "metadata": {},
   "outputs": [],
   "source": []
  },
  {
   "cell_type": "code",
   "execution_count": null,
   "id": "978c121a",
   "metadata": {},
   "outputs": [],
   "source": []
  },
  {
   "cell_type": "code",
   "execution_count": null,
   "id": "7a357a19",
   "metadata": {},
   "outputs": [],
   "source": []
  }
 ],
 "metadata": {
  "kernelspec": {
   "display_name": "Python [conda env:mlenv2]",
   "language": "python",
   "name": "conda-env-mlenv2-py"
  },
  "language_info": {
   "codemirror_mode": {
    "name": "ipython",
    "version": 3
   },
   "file_extension": ".py",
   "mimetype": "text/x-python",
   "name": "python",
   "nbconvert_exporter": "python",
   "pygments_lexer": "ipython3",
   "version": "3.7.10"
  }
 },
 "nbformat": 4,
 "nbformat_minor": 5
}
